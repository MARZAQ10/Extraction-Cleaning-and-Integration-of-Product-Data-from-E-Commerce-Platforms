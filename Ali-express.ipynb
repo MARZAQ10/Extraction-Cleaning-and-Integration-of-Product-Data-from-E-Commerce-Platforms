{
 "cells": [
  {
   "cell_type": "markdown",
   "metadata": {},
   "source": [
    "#### Importation des bibliothèques requises de Selenium "
   ]
  },
  {
   "cell_type": "code",
   "execution_count": 78,
   "metadata": {},
   "outputs": [],
   "source": [
    "from selenium import webdriver\n",
    "from selenium.webdriver.common.keys import Keys\n",
    "from selenium.webdriver.support import expected_conditions as EC\n",
    "from selenium.webdriver.common.by import By\n",
    "from selenium.webdriver.support.wait import WebDriverWait\n",
    "import time as time\n",
    "import re\n",
    "import csv\n",
    "import json\n",
    "from selenium.webdriver.chrome.options import Options\n",
    "from selenium.webdriver.chrome.service import Service\n",
    "from datetime import datetime\n",
    "service = Service(executable_path='./chromedriver.exe')\n",
    "options = webdriver.ChromeOptions()\n",
    "driver = webdriver.Chrome(service=service, options=options)\n",
    "driver.get(\"https://www.aliexpress.com/\")"
   ]
  },
  {
   "cell_type": "code",
   "execution_count": 213,
   "metadata": {},
   "outputs": [],
   "source": [
    "driver.get(\"https://ar.aliexpress.com/?gatewayAdapt=glo2ara\")"
   ]
  },
  {
   "cell_type": "code",
   "execution_count": 3,
   "metadata": {},
   "outputs": [],
   "source": [
    "div_to_click2 = driver.find_element(By.CSS_SELECTOR,\"div.ship-to--menuItem--WdBDsYl\")\n",
    "div_to_click2.click()"
   ]
  },
  {
   "cell_type": "markdown",
   "metadata": {},
   "source": [
    "# Language Setting"
   ]
  },
  {
   "cell_type": "code",
   "execution_count": null,
   "metadata": {},
   "outputs": [],
   "source": [
    "language_elements = WebDriverWait(driver, 10).until(\n",
    "    EC.presence_of_all_elements_located((By.CSS_SELECTOR, 'div.select--text--1b85oDo'))\n",
    ")\n",
    "desired_language_element = language_elements[1]\n",
    "desired_language_element.click()"
   ]
  },
  {
   "cell_type": "code",
   "execution_count": 107,
   "metadata": {},
   "outputs": [],
   "source": [
    "arabic_option = WebDriverWait(driver, 10).until(\n",
    "    EC.element_to_be_clickable((By.XPATH, '//div[contains(@class, \"select--item--32FADYB\") and text()=\"العربية\"]'))\n",
    ")\n",
    "arabic_option.click()"
   ]
  },
  {
   "cell_type": "markdown",
   "metadata": {},
   "source": [
    "# Currency Setting"
   ]
  },
  {
   "cell_type": "code",
   "execution_count": 108,
   "metadata": {},
   "outputs": [],
   "source": [
    "language_elements = WebDriverWait(driver, 10).until(\n",
    "    EC.presence_of_all_elements_located((By.CSS_SELECTOR, 'div.select--text--1b85oDo'))\n",
    ")\n",
    "desired_currency_element = language_elements[2]\n",
    "desired_currency_element.click()\n",
    "\n"
   ]
  },
  {
   "cell_type": "code",
   "execution_count": 109,
   "metadata": {},
   "outputs": [],
   "source": [
    "usd_option = WebDriverWait(driver, 10).until(\n",
    "    EC.element_to_be_clickable((By.XPATH, \"//div[@class='select--item--32FADYB' and text()='USD ( US Dollar )']\"))\n",
    ")\n",
    "usd_option.click()"
   ]
  },
  {
   "cell_type": "markdown",
   "metadata": {},
   "source": [
    "# Save changes"
   ]
  },
  {
   "cell_type": "code",
   "execution_count": 110,
   "metadata": {},
   "outputs": [],
   "source": [
    "save_button = WebDriverWait(driver, 10).until(\n",
    "    EC.element_to_be_clickable((By.XPATH, '//div[contains(@class, \"es--saveBtn--w8EuBuy\") and text()=\"Save\"]'))\n",
    ")\n",
    "\n",
    "save_button.click()"
   ]
  },
  {
   "cell_type": "markdown",
   "metadata": {},
   "source": [
    "### Navigate to Categories list, then Subcategories List, and finally Subsubcategories list."
   ]
  },
  {
   "cell_type": "code",
   "execution_count": null,
   "metadata": {},
   "outputs": [],
   "source": [
    "from selenium.webdriver.common.action_chains import ActionChains\n",
    "element_to_hover = driver.find_element(By.XPATH,\"//div[@class='Categoey--rtlControlCategory--2uyqpGp']\")\n",
    "\n",
    "action = ActionChains(driver)\n",
    "action.move_to_element(element_to_hover).perform()\n",
    "element_to_hover2 = driver.find_element(By.XPATH,\"//div[@class='Categoey--categoryItemTitle--2uJUqT2' and text()='الإلكترونيات']\")\n",
    "\n",
    "action = ActionChains(driver)\n",
    "action.move_to_element(element_to_hover2).perform()\n",
    "time.sleep(5)\n",
    "\n",
    "link = driver.find_element(By.XPATH,\"//div[text()='المنزل الذكي']/ancestor::a\")\n",
    "link.click()"
   ]
  },
  {
   "cell_type": "markdown",
   "metadata": {},
   "source": [
    "# Extract links"
   ]
  },
  {
   "cell_type": "code",
   "execution_count": 6,
   "metadata": {},
   "outputs": [],
   "source": [
    "def extract_links_from_page():\n",
    "    links_dict = {}\n",
    "    anchors = driver.find_elements(By.TAG_NAME,'a')\n",
    "    anchors = [a.get_attribute('href') for a in anchors]\n",
    "    anchors = [a for a in anchors if str(a).startswith(\"https://ar.aliexpress.com/item/\")]\n",
    "    \n",
    "    return anchors"
   ]
  },
  {
   "cell_type": "code",
   "execution_count": 115,
   "metadata": {},
   "outputs": [
    {
     "data": {
      "text/plain": [
       "['https://ar.aliexpress.com/item/1005005492838959.html?algo_pvid=5b8f2196-b936-4384-81f4-75f2fc672975&guide_trace=37f48957-774e-46e5-9973-36256842e756&algo_exp_id=5b8f2196-b936-4384-81f4-75f2fc672975-0&pdp_npi=4%40dis%21USD%2110.00%210.49%21%21%2110.00%21%21%402103146c17019810149306359e0754%2112000033296367881%21sea%21MA%210%21AB&curPageLogUid=urSlFI0lkQ4g',\n",
       " 'https://ar.aliexpress.com/item/1005005667101732.html?algo_pvid=5b8f2196-b936-4384-81f4-75f2fc672975&guide_trace=37f48957-774e-46e5-9973-36256842e756&algo_exp_id=5b8f2196-b936-4384-81f4-75f2fc672975-1&pdp_npi=4%40dis%21USD%2110.62%210.49%21%21%2110.62%21%21%402103146c17019810149306359e0754%2112000033949692047%21sea%21MA%210%21AB&curPageLogUid=LjXqhmQ4paJZ',\n",
       " 'https://ar.aliexpress.com/item/1005005234536164.html?algo_pvid=5b8f2196-b936-4384-81f4-75f2fc672975&guide_trace=37f48957-774e-46e5-9973-36256842e756&algo_exp_id=5b8f2196-b936-4384-81f4-75f2fc672975-2&pdp_npi=4%40dis%21USD%2110.00%210.49%21%21%2110.00%21%21%402103146c17019810149306359e0754%2112000032306558363%21sea%21MA%210%21AB&curPageLogUid=PNKdjfaZZBU0',\n",
       " 'https://ar.aliexpress.com/item/1005006305999458.html?algo_pvid=5b8f2196-b936-4384-81f4-75f2fc672975&guide_trace=37f48957-774e-46e5-9973-36256842e756&algo_exp_id=5b8f2196-b936-4384-81f4-75f2fc672975-3&pdp_npi=4%40dis%21USD%212.10%212.1%21%21%2115.00%21%21%402103146c17019810149306359e0754%2112000036693311472%21sea%21MA%210%21AB&curPageLogUid=FQs2Dmsi84qS',\n",
       " 'https://ar.aliexpress.com/item/1005006289482472.html?algo_pvid=5b8f2196-b936-4384-81f4-75f2fc672975&guide_trace=37f48957-774e-46e5-9973-36256842e756&algo_exp_id=5b8f2196-b936-4384-81f4-75f2fc672975-4&pdp_npi=4%40dis%21USD%2135.66%2110.33%21%21%2135.66%21%21%402103146c17019810149306359e0754%2112000036627020722%21sea%21MA%210%21AB&curPageLogUid=HKiz3Dr8C6HK',\n",
       " 'https://ar.aliexpress.com/item/1005005119018257.html?algo_pvid=5b8f2196-b936-4384-81f4-75f2fc672975&guide_trace=37f48957-774e-46e5-9973-36256842e756&algo_exp_id=5b8f2196-b936-4384-81f4-75f2fc672975-5&pdp_npi=4%40dis%21USD%2120.08%214.03%21%21%2120.08%21%21%402103146c17019810149306359e0754%2112000031724138170%21sea%21MA%210%21AB&curPageLogUid=MZ2ha1WCATPv',\n",
       " 'https://ar.aliexpress.com/item/1005006286109220.html?algo_pvid=5b8f2196-b936-4384-81f4-75f2fc672975&guide_trace=37f48957-774e-46e5-9973-36256842e756&algo_exp_id=5b8f2196-b936-4384-81f4-75f2fc672975-6&pdp_npi=4%40dis%21USD%2123.74%215.87%21%21%2123.74%21%21%402103146c17019810149306359e0754%2112000036612419453%21sea%21MA%210%21AB&curPageLogUid=I8HbhT1X5mri',\n",
       " 'https://ar.aliexpress.com/item/1005005843481339.html?algo_pvid=5b8f2196-b936-4384-81f4-75f2fc672975&guide_trace=37f48957-774e-46e5-9973-36256842e756&algo_exp_id=5b8f2196-b936-4384-81f4-75f2fc672975-7&pdp_npi=4%40dis%21USD%2127.79%2118.9%21%21%21198.20%21%21%402103146c17019810149306359e0754%2112000034547614033%21sea%21MA%210%21AB&curPageLogUid=JtRMLMbrXzT9',\n",
       " 'https://ar.aliexpress.com/item/1005002888681742.html?algo_pvid=5b8f2196-b936-4384-81f4-75f2fc672975&guide_trace=37f48957-774e-46e5-9973-36256842e756&algo_exp_id=5b8f2196-b936-4384-81f4-75f2fc672975-8&pdp_npi=4%40dis%21USD%216.77%213.59%21%21%216.77%21%21%402103146c17019810149306359e0754%2112000026950416246%21sea%21MA%210%21AB&curPageLogUid=OkJUIcc8doeA',\n",
       " 'https://ar.aliexpress.com/item/1005005260056210.html?algo_pvid=5b8f2196-b936-4384-81f4-75f2fc672975&guide_trace=37f48957-774e-46e5-9973-36256842e756&algo_exp_id=5b8f2196-b936-4384-81f4-75f2fc672975-9&pdp_npi=4%40dis%21USD%218.10%214.05%21%21%218.10%21%21%402103146c17019810149306359e0754%2112000032395442522%21sea%21MA%210%21AB&curPageLogUid=f6MYEgmXJQHM',\n",
       " 'https://ar.aliexpress.com/item/1005005241857596.html?algo_pvid=5b8f2196-b936-4384-81f4-75f2fc672975&guide_trace=37f48957-774e-46e5-9973-36256842e756&algo_exp_id=5b8f2196-b936-4384-81f4-75f2fc672975-44&pdp_npi=4%40dis%21USD%213.16%211.26%21%21%213.16%21%21%402103146c17019810149306359e0754%2112000032333847567%21sea%21MA%210%21AB&curPageLogUid=eL7bva1SG8JY',\n",
       " 'https://ar.aliexpress.com/item/1005005149563072.html?algo_pvid=5b8f2196-b936-4384-81f4-75f2fc672975&guide_trace=37f48957-774e-46e5-9973-36256842e756&algo_exp_id=5b8f2196-b936-4384-81f4-75f2fc672975-45&pdp_npi=4%40dis%21USD%212.90%210.49%21%21%212.90%21%21%402103146c17019810149306359e0754%2112000031865910918%21sea%21MA%210%21AB&curPageLogUid=KWLhYgazELV8',\n",
       " 'https://ar.aliexpress.com/item/1005006133240948.html?algo_pvid=5b8f2196-b936-4384-81f4-75f2fc672975&guide_trace=37f48957-774e-46e5-9973-36256842e756&algo_exp_id=5b8f2196-b936-4384-81f4-75f2fc672975-46&pdp_npi=4%40dis%21USD%2116.90%218.45%21%21%2116.90%21%21%402103146c17019810149306359e0754%2112000035907393718%21sea%21MA%210%21AB&curPageLogUid=KCM9NgxyR9VR',\n",
       " 'https://ar.aliexpress.com/item/1005004595596765.html?algo_pvid=5b8f2196-b936-4384-81f4-75f2fc672975&guide_trace=37f48957-774e-46e5-9973-36256842e756&algo_exp_id=5b8f2196-b936-4384-81f4-75f2fc672975-47&pdp_npi=4%40dis%21USD%213.39%212.2%21%21%213.39%21%21%402103146c17019810149306359e0754%2112000029768029428%21sea%21MA%210%21AB&curPageLogUid=FHX4JYqtrnFQ',\n",
       " 'https://ar.aliexpress.com/item/1005005875938991.html?algo_pvid=5b8f2196-b936-4384-81f4-75f2fc672975&guide_trace=37f48957-774e-46e5-9973-36256842e756&algo_exp_id=5b8f2196-b936-4384-81f4-75f2fc672975-48&pdp_npi=4%40dis%21USD%2134.32%213.14%21%21%2134.32%21%21%402103146c17019810149306359e0754%2112000034665398590%21sea%21MA%210%21AB&curPageLogUid=X5xTC1I0i8W8',\n",
       " 'https://ar.aliexpress.com/item/1005004954555287.html?algo_pvid=5b8f2196-b936-4384-81f4-75f2fc672975&guide_trace=37f48957-774e-46e5-9973-36256842e756&algo_exp_id=5b8f2196-b936-4384-81f4-75f2fc672975-49&pdp_npi=4%40dis%21USD%2130.40%2114.29%21%21%2130.40%21%21%402103146c17019810149306359e0754%2112000031141650055%21sea%21MA%210%21AB&curPageLogUid=GAE3I73sbVaZ',\n",
       " 'https://ar.aliexpress.com/item/1005005946189677.html?algo_pvid=5b8f2196-b936-4384-81f4-75f2fc672975&guide_trace=37f48957-774e-46e5-9973-36256842e756&algo_exp_id=5b8f2196-b936-4384-81f4-75f2fc672975-50&pdp_npi=4%40dis%21USD%212.33%211.12%21%21%212.33%21%21%402103146c17019810149306359e0754%2112000034973900012%21sea%21MA%210%21AB&curPageLogUid=NmKEDlX4eg3A',\n",
       " 'https://ar.aliexpress.com/item/1005006026693873.html?algo_pvid=5b8f2196-b936-4384-81f4-75f2fc672975&guide_trace=37f48957-774e-46e5-9973-36256842e756&algo_exp_id=5b8f2196-b936-4384-81f4-75f2fc672975-51&pdp_npi=4%40dis%21USD%2118.19%2112.19%21%21%21129.77%21%21%402103146c17019810149306359e0754%2112000035381813037%21sea%21MA%210%21AB&curPageLogUid=MHMZn6yHyp4R',\n",
       " 'https://ar.aliexpress.com/item/1005002090242626.html?algo_pvid=5b8f2196-b936-4384-81f4-75f2fc672975&guide_trace=37f48957-774e-46e5-9973-36256842e756&algo_exp_id=5b8f2196-b936-4384-81f4-75f2fc672975-52&pdp_npi=4%40dis%21USD%211.84%211.16%21%21%211.84%21%21%402103146c17019810149306359e0754%2112000018707789884%21sea%21MA%210%21AB&curPageLogUid=yMNSMgWcJoFw',\n",
       " 'https://ar.aliexpress.com/item/1005006178509871.html?algo_pvid=5b8f2196-b936-4384-81f4-75f2fc672975&guide_trace=37f48957-774e-46e5-9973-36256842e756&algo_exp_id=5b8f2196-b936-4384-81f4-75f2fc672975-53&pdp_npi=4%40dis%21USD%2115.07%210.49%21%21%2115.07%21%21%402103146c17019810149306359e0754%2112000036153858977%21sea%21MA%210%21AB&curPageLogUid=WrGmMKurvYBv',\n",
       " 'https://ar.aliexpress.com/item/1005002125645826.html?algo_pvid=5b8f2196-b936-4384-81f4-75f2fc672975&guide_trace=37f48957-774e-46e5-9973-36256842e756&algo_exp_id=5b8f2196-b936-4384-81f4-75f2fc672975-54&pdp_npi=4%40dis%21USD%216.39%214.79%21%21%216.39%21%21%402103146c17019810149306359e0754%2112000018824119817%21sea%21MA%210%21AB&curPageLogUid=xZv0gnxN1fPj',\n",
       " 'https://ar.aliexpress.com/item/1005004796055746.html?algo_pvid=5b8f2196-b936-4384-81f4-75f2fc672975&guide_trace=37f48957-774e-46e5-9973-36256842e756&algo_exp_id=5b8f2196-b936-4384-81f4-75f2fc672975-55&pdp_npi=4%40dis%21USD%2130.54%2115.88%21%21%2130.54%21%21%402103146c17019810149306359e0754%2112000032410139063%21sea%21MA%210%21AB&curPageLogUid=5t6QWVmYxmy6',\n",
       " 'https://ar.aliexpress.com/item/1005006082317209.html?algo_pvid=5b8f2196-b936-4384-81f4-75f2fc672975&guide_trace=37f48957-774e-46e5-9973-36256842e756&algo_exp_id=5b8f2196-b936-4384-81f4-75f2fc672975-56&pdp_npi=4%40dis%21USD%2122.56%213.93%21%21%2122.56%21%21%402103146c17019810149306359e0754%2112000035647917638%21sea%21MA%210%21AB&curPageLogUid=Y9ZmZj0OEc5S',\n",
       " 'https://ar.aliexpress.com/item/1005005854076739.html?algo_pvid=5b8f2196-b936-4384-81f4-75f2fc672975&guide_trace=37f48957-774e-46e5-9973-36256842e756&algo_exp_id=5b8f2196-b936-4384-81f4-75f2fc672975-57&pdp_npi=4%40dis%21USD%212.70%211.48%21%21%2119.29%21%21%402103146c17019810149306359e0754%2112000034583487317%21sea%21MA%210%21AB&curPageLogUid=hppQXrLbQyN6',\n",
       " 'https://ar.aliexpress.com/item/1005005858702673.html?algo_pvid=5b8f2196-b936-4384-81f4-75f2fc672975&guide_trace=37f48957-774e-46e5-9973-36256842e756&algo_exp_id=5b8f2196-b936-4384-81f4-75f2fc672975-58&pdp_npi=4%40dis%21USD%213.82%212.29%21%21%213.82%21%21%402103146c17019810149306359e0754%2112000034599855461%21sea%21MA%210%21AB&curPageLogUid=ZfSkY2sOXBqN',\n",
       " 'https://ar.aliexpress.com/item/1005005576044502.html?algo_pvid=5b8f2196-b936-4384-81f4-75f2fc672975&guide_trace=37f48957-774e-46e5-9973-36256842e756&algo_exp_id=5b8f2196-b936-4384-81f4-75f2fc672975-59&pdp_npi=4%40dis%21USD%214.98%212.99%21%21%214.98%21%21%402103146c17019810149306359e0754%2112000033611336837%21sea%21MA%210%21AB&curPageLogUid=9qc79kGUoQkB',\n",
       " 'https://ar.aliexpress.com/item/MORESKY/32942079238.html?p4p_pvid=202312071230174980405689592180001759176_1&s=p',\n",
       " 'https://ar.aliexpress.com/item/MORESKY/32942079238.html?p4p_pvid=202312071230174980405689592180001759176_1&s=p',\n",
       " 'https://ar.aliexpress.com/item/125/32961289979.html?p4p_pvid=202312071230174980405689592180001759176_2&s=p',\n",
       " 'https://ar.aliexpress.com/item/125/32961289979.html?p4p_pvid=202312071230174980405689592180001759176_2&s=p',\n",
       " 'https://ar.aliexpress.com/item/led/1005001895425283.html?p4p_pvid=202312071230174980405689592180001759176_3&s=p',\n",
       " 'https://ar.aliexpress.com/item/led/1005001895425283.html?p4p_pvid=202312071230174980405689592180001759176_3&s=p',\n",
       " 'https://ar.aliexpress.com/item/10-5A/1005003995896922.html?p4p_pvid=202312071230174980405689592180001759176_4&s=p',\n",
       " 'https://ar.aliexpress.com/item/10-5A/1005003995896922.html?p4p_pvid=202312071230174980405689592180001759176_4&s=p',\n",
       " 'https://ar.aliexpress.com/item/-/1005005937350050.html?p4p_pvid=202312071230174980405689592180001759176_5&s=p',\n",
       " 'https://ar.aliexpress.com/item/-/1005005937350050.html?p4p_pvid=202312071230174980405689592180001759176_5&s=p']"
      ]
     },
     "execution_count": 115,
     "metadata": {},
     "output_type": "execute_result"
    }
   ],
   "source": [
    "extract_links_from_page()"
   ]
  },
  {
   "cell_type": "markdown",
   "metadata": {},
   "source": [
    "### Click the button to move to the next page"
   ]
  },
  {
   "cell_type": "code",
   "execution_count": 38,
   "metadata": {},
   "outputs": [],
   "source": [
    "def next_page():\n",
    "    next_page_button = driver.find_element(By.XPATH,\"//li[@class='comet-pagination-next' and @aria-disabled='false']/button\")\n",
    "    next_page_button.click()"
   ]
  },
  {
   "cell_type": "code",
   "execution_count": 51,
   "metadata": {},
   "outputs": [],
   "source": [
    "def next_page():\n",
    "    next_page_button = driver.find_element(By.XPATH,\"//li[@class='comet-pagination-next' and @aria-disabled='false']/button\")\n",
    "    next_page_button.click()\n",
    "links = []\n",
    "number_of_pages_to_scrape =10\n",
    "for _ in range(number_of_pages_to_scrape):\n",
    "    page_urls = extract_links_from_page()\n",
    "    links.extend(page_urls)\n",
    "    time.sleep(4)\n",
    "    next_page()\n",
    "    time.sleep(1)\n",
    "\n",
    "with open('linksc4.json', 'w') as file:\n",
    "    json.dump(links, file)\n"
   ]
  },
  {
   "cell_type": "markdown",
   "metadata": {},
   "source": [
    "# Title"
   ]
  },
  {
   "cell_type": "code",
   "execution_count": 73,
   "metadata": {},
   "outputs": [
    {
     "data": {
      "text/plain": [
       "'A9 واي فاي كاميرا صغيرة لاسلكية ، ومراقبة حماية الأمن ، ومراقبة عن بعد ، وكاميرا الفيديو ، والمراقبة بالفيديو ، والمنزل الذكي - AliExpress'"
      ]
     },
     "execution_count": 73,
     "metadata": {},
     "output_type": "execute_result"
    }
   ],
   "source": [
    "title=driver.title\n",
    "title"
   ]
  },
  {
   "cell_type": "markdown",
   "metadata": {},
   "source": [
    "# Price"
   ]
  },
  {
   "cell_type": "code",
   "execution_count": null,
   "metadata": {},
   "outputs": [],
   "source": [
    "price_element = driver.find_element(By.CLASS_NAME,\"es--wrap--erdmPRe\")\n",
    "price_without_symbol = price_element.text.replace(\"US $\", \"\")\n",
    "price_without_symbol"
   ]
  },
  {
   "cell_type": "markdown",
   "metadata": {},
   "source": [
    "# First Image"
   ]
  },
  {
   "cell_type": "code",
   "execution_count": 155,
   "metadata": {},
   "outputs": [],
   "source": [
    "element = driver.find_element(By.CSS_SELECTOR,'div.sku-item--selected--RWc6VW_')\n",
    "element.click()"
   ]
  },
  {
   "cell_type": "markdown",
   "metadata": {},
   "source": [
    "# Or using this code , if i there is a problem"
   ]
  },
  {
   "cell_type": "code",
   "execution_count": 40,
   "metadata": {},
   "outputs": [],
   "source": [
    "images = WebDriverWait(driver, 10).until(\n",
    "        EC.presence_of_all_elements_located((By.CLASS_NAME, \"slider--img--D7MJNPZ\"))\n",
    "    )\n",
    "if len(images) > 1:\n",
    "    images[1].click()"
   ]
  },
  {
   "cell_type": "code",
   "execution_count": 200,
   "metadata": {},
   "outputs": [
    {
     "data": {
      "text/plain": [
       "'https://ae01.alicdn.com/kf/Sd6cd2291f3754536914fdcf217315216J/G10S-G10S-G10S-GHz-HK1.jpg_.webp'"
      ]
     },
     "execution_count": 200,
     "metadata": {},
     "output_type": "execute_result"
    }
   ],
   "source": [
    "image_element = driver.find_element(By.CLASS_NAME,\"magnifier--image--L4hZ4dC\")\n",
    "image_link = image_element.get_attribute(\"src\")\n",
    "image_link"
   ]
  },
  {
   "cell_type": "markdown",
   "metadata": {},
   "source": [
    "# Description"
   ]
  },
  {
   "cell_type": "code",
   "execution_count": 223,
   "metadata": {},
   "outputs": [
    {
     "data": {
      "text/plain": [
       "'حافظة صلبة لحمل الصدمات حافظة سفر EVA مضادة للخدش حافظة صلبة واقية مع جيب شبكي لبوابة PS5 لبوابة بلاي ستيشن\\nميزة:\\n1. تصميم مخصص:مصممة خصيصا للاعبين PS5 بلاي ستيشن بوابة على الذهاب. حقيبة حمل صلبة تعرض تصميم الحد الأدنى الذي يوفر مساحة ومريحة للحمل.\\n2-مادة ممتازة:مصنوعة من مادة PU + EVA متينة ، توفر حافظة قشرة صلبة هذه حماية ممتازة ضد الصدمات وقطرات والخدوش والهز. يوفر حماية شاملة لوحدة تحكم الألعاب الخاصة بك من الداخل إلى الخارج.\\n3-التخزين المقسم:يتميز الجزء الداخلي من حقيبة سفر الحمل بحجرات مخصصة لتخزين وحدة الألعاب بشكل آمن ، مما يمنعه من سحقه. جيب شبكي إضافي يسمح لك لتخزين الملحقات مثل الكابلات ، وأجهزة الشحن ، وبطاقات SD ، وأكثر من ذلك ، والحفاظ على كل شيء منظم وفي مكان واحد.\\n4. خفيفة الوزن ومحمولة:مجهزة بمقبض مريح يوفر متانة معززة ، هذه الحقيبة الصعبة الواقية مناسبة للتخييم في الهواء الطلق ، والتجمعات ، واللقاءات العائلية ، والسفر. يسمح لك بالاستمتاع بالألعاب في سيناريوهات مختلفة دون أي متاعب.\\n5. سهولة الفتح والإغلاق:يتيح تصميم السحاب المزدوج القوي لحقيبة التخزين المحمولة فتح وإغلاق حقيبة التخزين بدون جهد. القالب الداخلي يحمل بشكل آمن جميع العناصر في مكانها ، مما يلغي الحاجة إلى أحزمة الكتف أو الظهر.\\n\\n\\n\\n\\nالمواصفات:\\nالأصل: البر الرئيسى للصين\\nمتوافق مع العلامة التجارية/الموديل: لسوني\\nالمواد: بولي EVA إيفا\\nاللون: أسود\\nنموذج قابل للتطبيق: لبوابة PS5 (للبث PS5 يده/لبوابة بلاي ستيشن)\\nحجم المنتج: حوالي 340*153*80 مللي متر 13.39x6.02x3.15inch\\nالوزن: 335 جرام\\n\\nملاحظة:\\nلا يشمل ل بلاي ستيشن بوابة لعبة وحدة التحكم وغيرها من الملحقات\\nنظرًا لاختلاف الشاشة وتأثير الضوء ، قد يختلف اللون الفعلي للمادة قليلاً عن اللون الظاهر على الصور. شكرًا لك!\\nأرجو أن تسمحوا بانحراف قياس 1-2 سنتيمتر بسبب القياس اليدوي.'"
      ]
     },
     "execution_count": 223,
     "metadata": {},
     "output_type": "execute_result"
    }
   ],
   "source": [
    "description_element = driver.find_elements(By.XPATH,\"//div[@id='tl_1']\")\n",
    "description_element[0].text"
   ]
  },
  {
   "cell_type": "code",
   "execution_count": 32,
   "metadata": {},
   "outputs": [],
   "source": [
    "def description(scroll_percentage=0.60):\n",
    "    total_height = driver.execute_script(\"return document.body.scrollHeight\")\n",
    "    scroll_height = total_height * scroll_percentage\n",
    "    scroll_script = f\"window.scrollTo(0, {scroll_height});\"\n",
    "    driver.execute_script(scroll_script)\n",
    "    element = driver.find_element(By.CSS_SELECTOR, \"p.detail-desc-decorate-content\")\n",
    "    text = element.text \n",
    "    return text"
   ]
  },
  {
   "cell_type": "code",
   "execution_count": 258,
   "metadata": {},
   "outputs": [
    {
     "name": "stdout",
     "output_type": "stream",
     "text": [
      "المحمولة 40 قطعة سعة القرص CD DVD VCD محفظة التخزين المنظم حامل الصندوق\n",
      "\n",
      "الميزات:\n",
      "1. يتم اختيار مواد ذات جودة عالية لتصميم الشكل المتميز لتوفير أفضل حماية للقرص البصري.\n",
      "2. حماية جيدة لتجنب الرطوبة وغزو الغبار.\n",
      "3. الصفحات الداخلية المصنوعة من مواد خاصة يمكن أن تمنع بشكل فعال القرص من التعرض للخدش.\n",
      "4. PP مواد حماية البيئة ، لا تلوث للبيئة ، وحماية CD الخاص بك.\n",
      "5. بنية مدمجة تحسن سعة التخزين وتوفر المساحة بشكل فعال.\n",
      "6. المدمجة وخفيفة الوزن ، يسهل حملها.\n",
      "\n",
      "المواصفات:\n",
      "القدرة: يمكن أن تعقد قرص 40 قطعة\n",
      "اللون: أحمر ، أزرق ، أسود ، أبيض ، فضي\n",
      "\n",
      "ملاحظة:\n",
      "أرجو أن تسمحوا باختلاف 1-3 مللي متر بسبب القياس اليدوي.\n",
      "نظرًا لاختلاف العرض والضوء المختلف ، قد لا تعكس الصورة اللون الفعلي للمادة. شكرا لتفهمك.\n",
      "\n",
      "\n",
      "\n",
      "1 × دي في دي CD صندوق تخزين\n"
     ]
    }
   ],
   "source": [
    "total_height = driver.execute_script(\"return document.body.scrollHeight\")\n",
    "scroll_height = total_height * 0.20\n",
    "scroll_script = f\"window.scrollTo(0, {scroll_height});\"\n",
    "driver.execute_script(scroll_script)\n",
    "description_element = driver.find_element(By.CLASS_NAME,\"detail-desc-decorate-richtext\")\n",
    "description = description_element.text\n",
    "print(description)"
   ]
  },
  {
   "cell_type": "markdown",
   "metadata": {},
   "source": [
    "# Items sold"
   ]
  },
  {
   "cell_type": "code",
   "execution_count": 261,
   "metadata": {},
   "outputs": [],
   "source": [
    "def extract_sales_number():\n",
    "    try:\n",
    "        sales_element = driver.find_element(By.CSS_SELECTOR, 'div.reviewer--wrap--sPGWrNq.span')\n",
    "        sales_text = sales_element.text\n",
    "        sales_number = ''.join(filter(str.isdigit, sales_text))\n",
    "        return sales_number\n",
    "    except Exception as e:\n",
    "        print(\"Failed to extract the number of sales:\", e)\n",
    "        return None\n",
    "extract_sales_number()"
   ]
  },
  {
   "cell_type": "code",
   "execution_count": 227,
   "metadata": {},
   "outputs": [
    {
     "name": "stdout",
     "output_type": "stream",
     "text": [
      "Sales Number: 32\n"
     ]
    }
   ],
   "source": [
    "\n",
    "spans = driver.find_elements(By.CSS_SELECTOR,'span')\n",
    "for span in spans:\n",
    "        # Check if the span contains the sales-related information\n",
    "    if \"تم البيع\" in span.text:\n",
    "        sales_number = span.text.strip().split()[0]\n",
    "        print(\"Sales Number:\", sales_number)\n",
    "        break\n",
    "        \n"
   ]
  },
  {
   "cell_type": "code",
   "execution_count": 27,
   "metadata": {},
   "outputs": [],
   "source": [
    "def extract_price():\n",
    "    try:\n",
    "        price_element = driver.find_element(By.CLASS_NAME, \"price--currentPriceText--mLOiFD4\")\n",
    "        price = price_element.text\n",
    "        price_without_symbol = price.replace(\"US $\", \"\")\n",
    "        return price_without_symbol\n",
    "    except Exception as e:\n",
    "        print(\"Failed to extract the price:\", e)\n",
    "        return None\n",
    "# extract_price()"
   ]
  },
  {
   "cell_type": "markdown",
   "metadata": {},
   "source": [
    "# Rating"
   ]
  },
  {
   "cell_type": "code",
   "execution_count": 197,
   "metadata": {},
   "outputs": [
    {
     "data": {
      "text/plain": [
       "4.755"
      ]
     },
     "execution_count": 197,
     "metadata": {},
     "output_type": "execute_result"
    }
   ],
   "source": [
    "percentage_element = driver.find_element(By.CSS_SELECTOR,'.store-header--text--yxM1iTQ strong')\n",
    "percentage = percentage_element.text\n",
    "numeric_value = float(percentage.strip('%'))\n",
    "Evaluations= numeric_value*5/ 100 \n",
    "Evaluations"
   ]
  },
  {
   "cell_type": "markdown",
   "metadata": {},
   "source": [
    "# Or using next code if it's existe."
   ]
  },
  {
   "cell_type": "code",
   "execution_count": 49,
   "metadata": {},
   "outputs": [
    {
     "data": {
      "text/plain": [
       "'  3.8'"
      ]
     },
     "execution_count": 49,
     "metadata": {},
     "output_type": "execute_result"
    }
   ],
   "source": [
    "rating_element = driver.find_elements(By.TAG_NAME,'strong')\n",
    "rating_value = rating_element[6].text\n",
    "rating_value\n",
    "# for i in rating_element:\n",
    "#     print(i.text)"
   ]
  },
  {
   "cell_type": "markdown",
   "metadata": {},
   "source": [
    "# Brand"
   ]
  },
  {
   "cell_type": "code",
   "execution_count": 18,
   "metadata": {},
   "outputs": [
    {
     "data": {
      "text/plain": [
       "'LEEDOAR'"
      ]
     },
     "execution_count": 18,
     "metadata": {},
     "output_type": "execute_result"
    }
   ],
   "source": [
    "driver.get(link)\n",
    "element = driver.find_element(By.XPATH,'//div[@class=\"specification--title--UbVeyic\"]/span[text()=\"اسم العلامة التجارية\"]/ancestor::div[@class=\"specification--prop--RejitI8\"]/div[@class=\"specification--desc--Mz148Bl\"]')\n",
    "element.text"
   ]
  },
  {
   "cell_type": "markdown",
   "metadata": {},
   "source": [
    "# We can make all brevious cells code in one function "
   ]
  },
  {
   "cell_type": "code",
   "execution_count": 79,
   "metadata": {},
   "outputs": [],
   "source": [
    "def scrape_aliexpress_items(links):\n",
    "    with open('كاميرات رقمية.csv', mode='+a', newline='', encoding='utf-8') as file:\n",
    "        writer = csv.writer(file)\n",
    "        writer.writerow(['Lien','Nom' ,'Description','Catégorie','Sous-catégorie','Marque','Prix', 'Nombre de vente', 'Evaluations','Lien de premier image'])\n",
    "        for link in links:\n",
    "            driver.get(link)\n",
    "            #\n",
    "            lien=link\n",
    "            #\n",
    "            Nom=driver.title\n",
    "            #\n",
    "            categorie='الإلكترونيات'\n",
    "            #\n",
    "            souscategorie='كاميرات رقمية'\n",
    "            # \n",
    "            try:\n",
    "               element = driver.find_element(By.XPATH,'//div[@class=\"specification--title--UbVeyic\"]/span[text()=\"اسم العلامة التجارية\"]/ancestor::div[@class=\"specification--prop--RejitI8\"]/div[@class=\"specification--desc--Mz148Bl\"]')\n",
    "               marque=element.text\n",
    "            except:\n",
    "                marque='inconnu'\n",
    "            #\n",
    "            try:\n",
    "                price_element = driver.find_element(By.CLASS_NAME,\"es--wrap--erdmPRe\")\n",
    "                price_without_symbol = price_element.text.replace(\"US $\", \"\")\n",
    "                price=price_without_symbol\n",
    "            except:\n",
    "                price=extract_price()\n",
    "            #\n",
    "\n",
    "            spans = driver.find_elements(By.CSS_SELECTOR,'span')\n",
    "            for span in spans:\n",
    "                if \"تم البيع\" in span.text:\n",
    "                    sales_number = span.text.strip().split()[0]\n",
    "                    nbvente=sales_number\n",
    "                    break\n",
    "            #\n",
    "            try:\n",
    "                rating_element = driver.find_elements(By.TAG_NAME,'strong')\n",
    "                Evaluations = float(rating_element[6].text)\n",
    "            except:\n",
    "                percentage_element = driver.find_element(By.CSS_SELECTOR,'.store-header--text--yxM1iTQ strong')\n",
    "                percentage = percentage_element.text\n",
    "                numeric_value = float(percentage.strip('%'))\n",
    "                Evaluations= numeric_value*5/ 100\n",
    "            #\n",
    "            try:\n",
    "               image_element = driver.find_element(By.CLASS_NAME,\"magnifier--image--L4hZ4dC\")\n",
    "               image_link = image_element.get_attribute(\"src\")\n",
    "            except:\n",
    "                try:\n",
    "                    element = driver.find_element(By.CSS_SELECTOR,'div.sku-item--selected--RWc6VW_')\n",
    "                    element.click()\n",
    "                    time.sleep(2)\n",
    "                    image_element = driver.find_element(By.CLASS_NAME,\"magnifier--image--L4hZ4dC\")\n",
    "                    image_link = image_element.get_attribute(\"src\")\n",
    "                except:\n",
    "                    images = WebDriverWait(driver,2).until(\n",
    "                             EC.presence_of_all_elements_located((By.CLASS_NAME, \"slider--img--D7MJNPZ\"))\n",
    "                              )\n",
    "                    if len(images) > 1:\n",
    "                       images[1].click()\n",
    "                    image_element = driver.find_element(By.CLASS_NAME,\"magnifier--image--L4hZ4dC\")\n",
    "                    image_link = image_element.get_attribute(\"src\")\n",
    "            try:\n",
    "                total_height = driver.execute_script(\"return document.body.scrollHeight\")\n",
    "                scroll_height = total_height * 0.20\n",
    "                scroll_script = f\"window.scrollTo(0, {scroll_height});\"\n",
    "                driver.execute_script(scroll_script)\n",
    "                description_element = driver.find_element(By.CLASS_NAME,\"detail-desc-decorate-richtext\")\n",
    "                description = description_element.text\n",
    "            except:\n",
    "                try:\n",
    "                    description=description()\n",
    "                except:\n",
    "                    try:\n",
    "                        description_element = driver.find_elements(By.XPATH,\"//div[@id='tl_1']\")\n",
    "                        description=description_element[0].text\n",
    "                    except:\n",
    "                        description=''\n",
    "            # Writing to CSV file\n",
    "            writer.writerow([lien,Nom ,description,categorie,souscategorie,marque,price,nbvente, Evaluations,image_link])\n"
   ]
  },
  {
   "cell_type": "code",
   "execution_count": 53,
   "metadata": {},
   "outputs": [],
   "source": [
    "# Read links from the JSON file\n",
    "with open('linksc4.json', 'r') as file:\n",
    "    links = json.load(file)"
   ]
  },
  {
   "cell_type": "code",
   "execution_count": 54,
   "metadata": {},
   "outputs": [
    {
     "data": {
      "text/plain": [
       "244"
      ]
     },
     "execution_count": 54,
     "metadata": {},
     "output_type": "execute_result"
    }
   ],
   "source": [
    "links=list(set(links))\n",
    "len(links)"
   ]
  },
  {
   "cell_type": "code",
   "execution_count": 75,
   "metadata": {},
   "outputs": [
    {
     "data": {
      "text/plain": [
       "131"
      ]
     },
     "execution_count": 75,
     "metadata": {},
     "output_type": "execute_result"
    }
   ],
   "source": [
    "l=list(df['Lien'])\n",
    "filtered=[i for i in links if i not in l]\n",
    "len(filtered)"
   ]
  },
  {
   "cell_type": "code",
   "execution_count": null,
   "metadata": {},
   "outputs": [],
   "source": [
    "scrape_aliexpress_items(filtered)"
   ]
  },
  {
   "cell_type": "markdown",
   "metadata": {},
   "source": [
    "## Fin code"
   ]
  }
 ],
 "metadata": {
  "kernelspec": {
   "display_name": "base",
   "language": "python",
   "name": "python3"
  },
  "language_info": {
   "codemirror_mode": {
    "name": "ipython",
    "version": 3
   },
   "file_extension": ".py",
   "mimetype": "text/x-python",
   "name": "python",
   "nbconvert_exporter": "python",
   "pygments_lexer": "ipython3",
   "version": "3.11.5"
  }
 },
 "nbformat": 4,
 "nbformat_minor": 2
}
